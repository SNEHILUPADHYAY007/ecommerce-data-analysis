{
 "cells": [
  {
   "cell_type": "markdown",
   "id": "81028ca9-274f-4d20-a647-fcd4b7e8c9e6",
   "metadata": {},
   "source": [
    "# Required Imports"
   ]
  },
  {
   "cell_type": "code",
   "execution_count": null,
   "id": "8901b150-e159-41a2-a5b3-3d2d7c0c3944",
   "metadata": {},
   "outputs": [],
   "source": [
    "import polars as pl"
   ]
  },
  {
   "cell_type": "markdown",
   "id": "55334162-c9a4-4377-b521-a6e8725aa7c8",
   "metadata": {},
   "source": [
    "# Class holding blueprints to read, transform & create the DF using POLARS"
   ]
  },
  {
   "cell_type": "code",
   "execution_count": null,
   "id": "e75db3b3-3472-4516-ba2b-f47b2478f467",
   "metadata": {},
   "outputs": [],
   "source": [
    "class PrepareData:\n",
    "    def __init__(self, file_paths):\n",
    "        self.file_paths = file_paths\n",
    "        self.dfs = {}\n",
    "        self.raw_dfs = {}\n",
    "        \n",
    "    # Method to read the file and create the DF\n",
    "    def read_file(self):\n",
    "        try:\n",
    "            for i in self.file_paths:\n",
    "                df = pl.read_csv(i)\n",
    "                key = i.split(\"/\")[-1].split(\".csv\")[0]\n",
    "                self.dfs[key] = df\n",
    "            print(\"All files read successfully\")\n",
    "            return self.dfs\n",
    "        except Exception as e:\n",
    "            print(f\"Exception {e} occured while reading the {self.file_path}\")\n",
    "\n",
    "    # Data Transformations for raw tables\n",
    "    def int_to_str(self, dataframes):\n",
    "        for key, df in dataframes.items():\n",
    "            try:\n",
    "                # Polars way of selecting the DF and Transforming the cols to String\n",
    "                df_local = df.select(pl.col(\"*\")).cast(pl.String)\n",
    "                self.raw_dfs[key] = df_local\n",
    "            except Exception as e:\n",
    "                print(f\"{e} occured while transforming the cols from int to str\")\n",
    "        print(\"All raw DFs are transformed successfully\")\n",
    "        return self.raw_dfs\n",
    "\n",
    "    # Data Transformations for Insight tables\n",
    "    def str_to_int(self, dataframe, col_names):\n",
    "        try:\n",
    "            df_local = dataframe.select(\"*\").with_columns(pl.col(col_names).cast(pl.Int64))\n",
    "            return df_local\n",
    "        except Exception as e:\n",
    "            print(f\"Exception occured:{e}\")\n",
    "\n",
    "    # Method to Fill Null values\n",
    "    def fill_nulls(self, df, col_name):\n",
    "        try:\n",
    "            print(\"Filling Nulls in orders table\")\n",
    "            return df.select(\"*\").with_columns(pl.col(col_name).fill_null(pl.lit(\"0.0\")))\n",
    "        except Exception as e:\n",
    "            print(f\"Exception:{e}\")\n",
    "    #Method to get column name of the dataframe\n",
    "    def get_col_name(self, df):\n",
    "        return df.columns\n",
    "        \n",
    "    \n",
    "        "
   ]
  },
  {
   "cell_type": "code",
   "execution_count": null,
   "id": "5742132b-b1c1-4afc-bd60-f33d9d65868b",
   "metadata": {},
   "outputs": [],
   "source": []
  }
 ],
 "metadata": {
  "kernelspec": {
   "display_name": "Python 3 (ipykernel)",
   "language": "python",
   "name": "python3"
  },
  "language_info": {
   "codemirror_mode": {
    "name": "ipython",
    "version": 3
   },
   "file_extension": ".py",
   "mimetype": "text/x-python",
   "name": "python",
   "nbconvert_exporter": "python",
   "pygments_lexer": "ipython3",
   "version": "3.8.2"
  }
 },
 "nbformat": 4,
 "nbformat_minor": 5
}
