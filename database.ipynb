{
 "cells": [
  {
   "cell_type": "markdown",
   "id": "bb6ca3c0-e880-4907-a30f-07d9452ad4dd",
   "metadata": {},
   "source": [
    "# Required Imports"
   ]
  },
  {
   "cell_type": "code",
   "execution_count": 1,
   "id": "8acd44eb-dea5-4bf2-87dc-46e80bd720c3",
   "metadata": {},
   "outputs": [],
   "source": [
    "import pyodbc\n",
    "import pandas as pd\n",
    "import polars as pl\n",
    "import pyarrow"
   ]
  },
  {
   "cell_type": "markdown",
   "id": "c74f838c-fa3a-4ba5-ac49-34af9d531810",
   "metadata": {},
   "source": [
    "# Class holding SQL Server connectivity, DML, DDL blueprints"
   ]
  },
  {
   "cell_type": "code",
   "execution_count": 2,
   "id": "4128a7c3-0b04-4648-bdf4-38624082436f",
   "metadata": {},
   "outputs": [],
   "source": [
    "# Class holding SQL Server connectivity, DML, DDL blueprints\n",
    "class SQLServerDB:\n",
    "    # Constructor\n",
    "    def __init__(self, server_name, db_name):\n",
    "        self.connection = (\n",
    "            f'DRIVER={{ODBC Driver 17 for SQL Server}};'\n",
    "            f'SERVER={server_name};'\n",
    "            f'DATABASE={db_name};'\n",
    "            f'Trusted_Connection=yes'\n",
    "        )\n",
    "        self.conn = None\n",
    "        self.cursor = None\n",
    "\n",
    "    # Method to establish connection with SQL Server\n",
    "    def connect(self):\n",
    "        try:\n",
    "            self.conn = pyodbc.connect(self.connection,autocommit=True)\n",
    "            self.cursor = self.conn.cursor()\n",
    "            print(\"Connected to SQL Server successfully.\")\n",
    "        except pyodbc.Error as e:\n",
    "            print(f\"Error connecting to SQL Server: {e}\")\n",
    "\n",
    "    # Method to execute the queries\n",
    "    def execute_queries(self, query):\n",
    "        try:\n",
    "            self.cursor.execute(query)\n",
    "            self.conn.commit()\n",
    "            print(f\"Query Executed Successfully:-{query}\")\n",
    "        except pyodbc.Error as e:\n",
    "            print(f\"Error while executing the query:- {e}\")\n",
    "\n",
    "    # Insert data into the tables\n",
    "    def insert_data(self, query, data):\n",
    "        try:\n",
    "            self.cursor.executemany(query, data)\n",
    "            self.conn.commit()  # Commit the transaction\n",
    "            print(\"Data Inserted\")\n",
    "        except pyodbc.Error as e:\n",
    "            print(f\"Error occured while inserting the data:{e}\")\n",
    "\n",
    "    # Method to return the results from the DB\n",
    "    def return_result_on_query(self, query):\n",
    "        try:\n",
    "            self.cursor.execute(query)\n",
    "            result = self.cursor.fetchone()  # Fetch one result\n",
    "            return result if result else None\n",
    "\n",
    "        except pyodbc.Error as e:\n",
    "            print(f\"Exception Occured:{e}\")\n",
    "\n",
    "    # Method to read the table and return the df\n",
    "    def read_the_table(self, query):\n",
    "        try:\n",
    "            df = pd.read_sql(query, self.conn)\n",
    "            pl_df = pl.DataFrame(df)\n",
    "            return pl_df\n",
    "        except pyodbc.Error as e:\n",
    "            print(f\"Exception:{e}\")\n",
    "            \n",
    "    # Method to close the connection\n",
    "    def close(self):\n",
    "        if self.cursor:\n",
    "            self.cursor.close()\n",
    "        if self.conn:\n",
    "            self.conn.close()\n",
    "        print(\"Connection closed.\")\n",
    "        "
   ]
  },
  {
   "cell_type": "code",
   "execution_count": null,
   "id": "e49ea5f5-cad8-4283-9e79-f89e81d1be23",
   "metadata": {},
   "outputs": [],
   "source": []
  }
 ],
 "metadata": {
  "kernelspec": {
   "display_name": "Python 3 (ipykernel)",
   "language": "python",
   "name": "python3"
  },
  "language_info": {
   "codemirror_mode": {
    "name": "ipython",
    "version": 3
   },
   "file_extension": ".py",
   "mimetype": "text/x-python",
   "name": "python",
   "nbconvert_exporter": "python",
   "pygments_lexer": "ipython3",
   "version": "3.8.2"
  }
 },
 "nbformat": 4,
 "nbformat_minor": 5
}
